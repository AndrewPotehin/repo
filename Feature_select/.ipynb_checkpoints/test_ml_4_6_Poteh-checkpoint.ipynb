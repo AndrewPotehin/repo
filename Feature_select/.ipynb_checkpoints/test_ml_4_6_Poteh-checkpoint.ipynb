{
 "cells": [
  {
   "cell_type": "markdown",
   "id": "283929da",
   "metadata": {},
   "source": [
    "\n",
    "## Тестовое задание Модуль ML_4_6\n",
    "## Обучите модель линейной регрессии на найденных двумя способами трёх важных признаках и сравните полученные результаты."
   ]
  },
  {
   "cell_type": "markdown",
   "id": "1bc9d77b",
   "metadata": {},
   "source": [
    "### Импорт необходимых библиотек"
   ]
  },
  {
   "cell_type": "code",
   "execution_count": 1,
   "id": "9e8ec4c9",
   "metadata": {},
   "outputs": [],
   "source": [
    "import pandas as pd\n",
    "\n",
    "from sklearn.model_selection import train_test_split\n",
    "from sklearn.linear_model import LinearRegression\n",
    "from sklearn.metrics import mean_absolute_error\n",
    "\n",
    "from sklearn.feature_selection import RFE, SelectKBest, f_regression, f_classif"
   ]
  },
  {
   "cell_type": "markdown",
   "id": "e2cecd62",
   "metadata": {
    "id": "FtTudvkQGzRk"
   },
   "source": [
    "### Загрузка данных"
   ]
  },
  {
   "cell_type": "code",
   "execution_count": 2,
   "id": "ab725ccd",
   "metadata": {
    "id": "CiadW5D9G07U"
   },
   "outputs": [],
   "source": [
    "%%capture\n",
    "!wget https://www.dropbox.com/s/64ol9q9ssggz6f1/data_ford_price.xlsx"
   ]
  },
  {
   "cell_type": "code",
   "execution_count": 3,
   "id": "187a5c74",
   "metadata": {
    "id": "gmll87tAG2rK"
   },
   "outputs": [],
   "source": [
    "data = pd.read_excel('data_ford_price.xlsx')\n",
    "data = data[['price','year', 'cylinders', 'odometer', 'lat', 'long', 'weather']]\n",
    "data = data.dropna() # удалим пропуски"
   ]
  },
  {
   "cell_type": "markdown",
   "id": "bd87e841",
   "metadata": {},
   "source": [
    "### Выделим матрицу наблюдений и целевой признак из датафрейма"
   ]
  },
  {
   "cell_type": "code",
   "execution_count": 4,
   "id": "cfc3d6a1",
   "metadata": {},
   "outputs": [],
   "source": [
    "X = data.drop(columns='price') # матрица наблюдений\n",
    "y = data['price'] # целевой признак"
   ]
  },
  {
   "cell_type": "code",
   "execution_count": 5,
   "id": "c17f4307",
   "metadata": {},
   "outputs": [],
   "source": [
    "# Разобъем выборку на тренировочную и тестовую\n",
    "X_train, X_test, y_train, y_test = train_test_split(X, y, test_size = 0.3, random_state = 40)"
   ]
  },
  {
   "cell_type": "markdown",
   "id": "5961b98b",
   "metadata": {},
   "source": [
    "### Сделаем BaseLine - обучим модель линейной регрессии на всех доступных признаках и оценим качество с помощью MAE"
   ]
  },
  {
   "cell_type": "code",
   "execution_count": 6,
   "id": "8da585dd",
   "metadata": {},
   "outputs": [
    {
     "name": "stdout",
     "output_type": "stream",
     "text": [
      "MAE BaseLine: 4682.957\n"
     ]
    }
   ],
   "source": [
    "lr = LinearRegression()\n",
    "lr.fit(X_train, y_train)\n",
    "y_pred = lr.predict(X_test)\n",
    "mae = mean_absolute_error(y_test, y_pred)\n",
    "print('MAE BaseLine: %.3f' % mae)"
   ]
  },
  {
   "cell_type": "markdown",
   "id": "a7c17ffd",
   "metadata": {
    "id": "dUnTavGgIpj0"
   },
   "source": [
    "### Выберем 3 самых важных признака датафрейма с помощью метода рекурсивного исключения признаков (RFE)"
   ]
  },
  {
   "cell_type": "code",
   "execution_count": 7,
   "id": "1b1576a2",
   "metadata": {},
   "outputs": [
    {
     "data": {
      "text/plain": [
       "array(['year', 'cylinders', 'lat'], dtype=object)"
      ]
     },
     "execution_count": 7,
     "metadata": {},
     "output_type": "execute_result"
    }
   ],
   "source": [
    "model_rfe = LinearRegression()\n",
    "\n",
    "selector = RFE(model_rfe, n_features_to_select = 3, step = 1)\n",
    "selector = selector.fit(X_train, y_train)\n",
    " \n",
    "rfe_features = selector.get_feature_names_out()\n",
    "rfe_features"
   ]
  },
  {
   "cell_type": "markdown",
   "id": "8aca1415",
   "metadata": {},
   "source": [
    "### Оставим только эти признаки в наборе X и обучим на них модель Линейной регрессии"
   ]
  },
  {
   "cell_type": "code",
   "execution_count": 8,
   "id": "023aa3c3",
   "metadata": {},
   "outputs": [
    {
     "name": "stdout",
     "output_type": "stream",
     "text": [
      "MAE train для метода RFE: 5283.260\n",
      "MAE test для метода RFE: 5096.570\n"
     ]
    }
   ],
   "source": [
    "# Оставим в наборах train и test только отобранные признаки\n",
    "X_train_rfe = X_train[['year', 'cylinders', 'lat']]\n",
    "X_test_rfe = X_test[['year', 'cylinders', 'lat']]\n",
    "\n",
    "# Создадим и обучим модель Линейной Регрессии\n",
    "lr_rfe = LinearRegression()\n",
    "lr_rfe.fit(X_train_rfe, y_train)\n",
    "\n",
    "# Сделаем предсказания для тренировочной и тестовой выборок\n",
    "y_train_pred_rfe = lr_rfe.predict(X_train_rfe)\n",
    "y_test_pred_rfe = lr_rfe.predict(X_test_rfe)\n",
    "\n",
    "# Посчитаем МАЕ для тренировочной и тестовой выборок\n",
    "mae_train_rfe = mean_absolute_error(y_train, y_train_pred_rfe)\n",
    "mae_test_rfe = mean_absolute_error(y_test, y_test_pred_rfe)\n",
    "print('MAE train для метода RFE: %.3f' % mae_train_rfe)\n",
    "print('MAE test для метода RFE: %.3f' % mae_test_rfe)"
   ]
  },
  {
   "cell_type": "markdown",
   "id": "3b7d00c9",
   "metadata": {},
   "source": [
    "### Выберем 3 самых важных признака датафрейма с помощью метода выбора признаков на основе фильтров (корреляция Пирсона)"
   ]
  },
  {
   "cell_type": "code",
   "execution_count": 9,
   "id": "298d23c8",
   "metadata": {},
   "outputs": [
    {
     "data": {
      "text/plain": [
       "array(['year', 'cylinders', 'odometer'], dtype=object)"
      ]
     },
     "execution_count": 9,
     "metadata": {},
     "output_type": "execute_result"
    }
   ],
   "source": [
    "selector = SelectKBest(f_regression, k=3)\n",
    "selector.fit(X_train, y_train)\n",
    " \n",
    "pirs_features = selector.get_feature_names_out()\n",
    "pirs_features"
   ]
  },
  {
   "cell_type": "markdown",
   "id": "d6daceee",
   "metadata": {},
   "source": [
    "### Выберем 3 самых важных признака датафрейма с помощью метода выбора признаков на основе фильтров (ANOVA F-measure)"
   ]
  },
  {
   "cell_type": "code",
   "execution_count": 14,
   "id": "c9baebc4",
   "metadata": {},
   "outputs": [
    {
     "data": {
      "text/plain": [
       "array(['year', 'cylinders', 'odometer'], dtype=object)"
      ]
     },
     "execution_count": 14,
     "metadata": {},
     "output_type": "execute_result"
    }
   ],
   "source": [
    "selector = SelectKBest(f_classif, k=3)\n",
    "selector.fit(X_train, y_train)\n",
    " \n",
    "anova_features = selector.get_feature_names_out()\n",
    "anova_features"
   ]
  },
  {
   "cell_type": "markdown",
   "id": "cadbeb21",
   "metadata": {},
   "source": [
    "### Оба варианта этого метода дали одинаковый набор признаков"
   ]
  },
  {
   "cell_type": "markdown",
   "id": "cd06f079",
   "metadata": {},
   "source": [
    "### Оставим только эти признаки в наборе X и обучим на них модель Линейной регрессии"
   ]
  },
  {
   "cell_type": "code",
   "execution_count": 15,
   "id": "a069ff15",
   "metadata": {},
   "outputs": [
    {
     "name": "stdout",
     "output_type": "stream",
     "text": [
      "MAE train для корреляции Пирсона: 4896.205\n",
      "MAE test для корреляции Пирсона: 4708.946\n"
     ]
    }
   ],
   "source": [
    "# Оставим в наборах train и test только отобранные признаки\n",
    "X_train_pirs = X_train[['year', 'cylinders', 'odometer']]\n",
    "X_test_pirs = X_test[['year', 'cylinders', 'odometer']]\n",
    "\n",
    "# Создадим и обучим модель Линейной Регрессии\n",
    "lr_pirs = LinearRegression()\n",
    "lr_pirs.fit(X_train_pirs, y_train)\n",
    "\n",
    "# Сделаем предсказания для тренировочной и тестовой выборок\n",
    "y_train_pred_pirs = lr_pirs.predict(X_train_pirs)\n",
    "y_test_pred_pirs = lr_pirs.predict(X_test_pirs)\n",
    "\n",
    "# Посчитаем МАЕ для тренировочной и тестовой выборок\n",
    "mae_train_pirs = mean_absolute_error(y_train, y_train_pred_pirs)\n",
    "mae_test_pirs = mean_absolute_error(y_test, y_test_pred_pirs)\n",
    "print('MAE train для корреляции Пирсона: %.3f' % mae_train_pirs)\n",
    "print('MAE test для корреляции Пирсона: %.3f' % mae_test_pirs)"
   ]
  },
  {
   "cell_type": "markdown",
   "id": "faff3059",
   "metadata": {},
   "source": [
    "### Выведем таблицу полученных результатов MAE"
   ]
  },
  {
   "cell_type": "code",
   "execution_count": 16,
   "id": "52fa5aba",
   "metadata": {},
   "outputs": [
    {
     "data": {
      "text/html": [
       "<div>\n",
       "<style scoped>\n",
       "    .dataframe tbody tr th:only-of-type {\n",
       "        vertical-align: middle;\n",
       "    }\n",
       "\n",
       "    .dataframe tbody tr th {\n",
       "        vertical-align: top;\n",
       "    }\n",
       "\n",
       "    .dataframe thead th {\n",
       "        text-align: right;\n",
       "    }\n",
       "</style>\n",
       "<table border=\"1\" class=\"dataframe\">\n",
       "  <thead>\n",
       "    <tr style=\"text-align: right;\">\n",
       "      <th></th>\n",
       "      <th>model</th>\n",
       "      <th>mae</th>\n",
       "    </tr>\n",
       "  </thead>\n",
       "  <tbody>\n",
       "    <tr>\n",
       "      <th>0</th>\n",
       "      <td>baseline</td>\n",
       "      <td>4682.96</td>\n",
       "    </tr>\n",
       "    <tr>\n",
       "      <th>1</th>\n",
       "      <td>rfe</td>\n",
       "      <td>5096.57</td>\n",
       "    </tr>\n",
       "    <tr>\n",
       "      <th>2</th>\n",
       "      <td>pirs</td>\n",
       "      <td>4708.95</td>\n",
       "    </tr>\n",
       "  </tbody>\n",
       "</table>\n",
       "</div>"
      ],
      "text/plain": [
       "      model      mae\n",
       "0  baseline  4682.96\n",
       "1       rfe  5096.57\n",
       "2      pirs  4708.95"
      ]
     },
     "execution_count": 16,
     "metadata": {},
     "output_type": "execute_result"
    }
   ],
   "source": [
    "mae_df = pd.DataFrame.from_dict({'baseline': round(mae,2), \n",
    "                                 'rfe': round(mae_test_rfe,2), \n",
    "                                 'pirs': round(mae_test_pirs,2)}, \n",
    "                                orient='index').reset_index()\n",
    "mae_df.columns = ['model', 'mae']\n",
    "mae_df"
   ]
  },
  {
   "cell_type": "markdown",
   "id": "06cd2fce",
   "metadata": {},
   "source": [
    "### Посмотрим насколько большое или маленькое MAE мы получили при разных вариантах модели"
   ]
  },
  {
   "cell_type": "code",
   "execution_count": 17,
   "id": "b0725d59",
   "metadata": {},
   "outputs": [
    {
     "name": "stdout",
     "output_type": "stream",
     "text": [
      "MAE для признаков BaseLine составило 32.0 % от средней цены\n",
      "MAE для признаков RFE составило 35.0 % от средней цены\n",
      "MAE для признаков Пирсона составило 32.0 % от средней цены\n"
     ]
    }
   ],
   "source": [
    "# Чтобы хоть как-то оценить MAE на данном этапе - сравним ее со средней ценой автомобилей\n",
    "mean_price = data.price.mean()\n",
    "print(f'MAE для признаков BaseLine составило {round(mae/mean_price,2)*100} % от средней цены')\n",
    "print(f'MAE для признаков RFE составило {round(mae_test_rfe/mean_price,2)*100} % от средней цены')\n",
    "print(f'MAE для признаков Пирсона составило {round(mae_test_pirs/mean_price,2)*100} % от средней цены')"
   ]
  },
  {
   "cell_type": "markdown",
   "id": "9f833607",
   "metadata": {},
   "source": [
    "### Выводы\n",
    "1. Сама по себе MAE (средняя сумма абсолютной разницы) не дает четкого понимания, хорошо работает модель или нет.\n",
    "\n",
    "Но мы можем предположить, что отклонение в 32-35% это достаточно много для цены автомобиля.\n",
    "\n",
    "2. Наилучшее значение MAE мы получили при построении базовой модели, которую обучили на всех признаках\n",
    "\n",
    "3. На наших данных лучше сработал метод отбора важных признаков с помощью корреляции Пирсона. \n",
    "\n",
    "Корреляция Пирсона дала лучше MAE, чем метод RFE.\n",
    "\n",
    "4. Скорее всего, при отборе признаков были потеряны какие-то зависимости, которые помогали модели лучше обучаться.\n",
    "\n",
    "5. Метод отбора важных признаков лучше сработает при наличии большого количества признаков."
   ]
  }
 ],
 "metadata": {
  "kernelspec": {
   "display_name": "Python 3 (ipykernel)",
   "language": "python",
   "name": "python3"
  },
  "language_info": {
   "codemirror_mode": {
    "name": "ipython",
    "version": 3
   },
   "file_extension": ".py",
   "mimetype": "text/x-python",
   "name": "python",
   "nbconvert_exporter": "python",
   "pygments_lexer": "ipython3",
   "version": "3.9.13"
  }
 },
 "nbformat": 4,
 "nbformat_minor": 5
}
