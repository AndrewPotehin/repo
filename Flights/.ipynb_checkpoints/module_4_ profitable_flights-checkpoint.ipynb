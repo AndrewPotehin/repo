{
 "cells": [
  {
   "cell_type": "code",
   "execution_count": 2,
   "metadata": {},
   "outputs": [],
   "source": [
    "import pandas as pd\n",
    "import matplotlib.pyplot as plt\n",
    "import numpy as np\n",
    "import statistics as sts\n",
    "from datetime import datetime\n",
    "%matplotlib inline\n"
   ]
  },
  {
   "cell_type": "markdown",
   "metadata": {},
   "source": [
    "Наша задача - проанализировать датасет, полученный из базы данных о перелетах на предмет прибыльных и малоприбыльных перелетов (рейсов)"
   ]
  },
  {
   "cell_type": "code",
   "execution_count": 3,
   "metadata": {},
   "outputs": [
    {
     "data": {
      "text/html": [
       "<div>\n",
       "<style scoped>\n",
       "    .dataframe tbody tr th:only-of-type {\n",
       "        vertical-align: middle;\n",
       "    }\n",
       "\n",
       "    .dataframe tbody tr th {\n",
       "        vertical-align: top;\n",
       "    }\n",
       "\n",
       "    .dataframe thead th {\n",
       "        text-align: right;\n",
       "    }\n",
       "</style>\n",
       "<table border=\"1\" class=\"dataframe\">\n",
       "  <thead>\n",
       "    <tr style=\"text-align: right;\">\n",
       "      <th></th>\n",
       "      <th>flight_id</th>\n",
       "      <th>arrival_airport</th>\n",
       "      <th>model</th>\n",
       "      <th>seats_total</th>\n",
       "      <th>flight_time</th>\n",
       "      <th>day_of_week</th>\n",
       "      <th>flight_id.1</th>\n",
       "      <th>sum_amount</th>\n",
       "      <th>seats_count_sold</th>\n",
       "    </tr>\n",
       "  </thead>\n",
       "  <tbody>\n",
       "    <tr>\n",
       "      <th>0</th>\n",
       "      <td>136119</td>\n",
       "      <td>SVO</td>\n",
       "      <td>Boeing 737-300</td>\n",
       "      <td>130</td>\n",
       "      <td>101.0</td>\n",
       "      <td>2.0</td>\n",
       "      <td>136119</td>\n",
       "      <td>1653000.0</td>\n",
       "      <td>113</td>\n",
       "    </tr>\n",
       "    <tr>\n",
       "      <th>1</th>\n",
       "      <td>136120</td>\n",
       "      <td>SVO</td>\n",
       "      <td>Boeing 737-300</td>\n",
       "      <td>130</td>\n",
       "      <td>99.0</td>\n",
       "      <td>5.0</td>\n",
       "      <td>136120</td>\n",
       "      <td>1605400.0</td>\n",
       "      <td>109</td>\n",
       "    </tr>\n",
       "    <tr>\n",
       "      <th>2</th>\n",
       "      <td>136122</td>\n",
       "      <td>SVO</td>\n",
       "      <td>Boeing 737-300</td>\n",
       "      <td>130</td>\n",
       "      <td>100.0</td>\n",
       "      <td>0.0</td>\n",
       "      <td>136122</td>\n",
       "      <td>1431000.0</td>\n",
       "      <td>97</td>\n",
       "    </tr>\n",
       "    <tr>\n",
       "      <th>3</th>\n",
       "      <td>136130</td>\n",
       "      <td>SVO</td>\n",
       "      <td>Boeing 737-300</td>\n",
       "      <td>130</td>\n",
       "      <td>99.0</td>\n",
       "      <td>1.0</td>\n",
       "      <td>136130</td>\n",
       "      <td>1556600.0</td>\n",
       "      <td>107</td>\n",
       "    </tr>\n",
       "    <tr>\n",
       "      <th>4</th>\n",
       "      <td>136131</td>\n",
       "      <td>SVO</td>\n",
       "      <td>Boeing 737-300</td>\n",
       "      <td>130</td>\n",
       "      <td>99.0</td>\n",
       "      <td>6.0</td>\n",
       "      <td>136131</td>\n",
       "      <td>1812800.0</td>\n",
       "      <td>124</td>\n",
       "    </tr>\n",
       "  </tbody>\n",
       "</table>\n",
       "</div>"
      ],
      "text/plain": [
       "   flight_id arrival_airport           model  seats_total  flight_time  \\\n",
       "0     136119             SVO  Boeing 737-300          130        101.0   \n",
       "1     136120             SVO  Boeing 737-300          130         99.0   \n",
       "2     136122             SVO  Boeing 737-300          130        100.0   \n",
       "3     136130             SVO  Boeing 737-300          130         99.0   \n",
       "4     136131             SVO  Boeing 737-300          130         99.0   \n",
       "\n",
       "   day_of_week  flight_id.1  sum_amount  seats_count_sold  \n",
       "0          2.0       136119   1653000.0               113  \n",
       "1          5.0       136120   1605400.0               109  \n",
       "2          0.0       136122   1431000.0                97  \n",
       "3          1.0       136130   1556600.0               107  \n",
       "4          6.0       136131   1812800.0               124  "
      ]
     },
     "execution_count": 3,
     "metadata": {},
     "output_type": "execute_result"
    }
   ],
   "source": [
    "flights = pd.read_csv('query_result.csv')\n",
    "flights.head()"
   ]
  },
  {
   "cell_type": "markdown",
   "metadata": {},
   "source": [
    "Какие данные у нас есть в этой таблице:\n",
    "\n",
    "flight_id - уникальный идентификатор полета\n",
    "\n",
    "arrival_airport - код аэропорта прибытия\n",
    "\n",
    "model - модель самолета\n",
    "\n",
    "seats_total - количество мест в самолете всего\n",
    "\n",
    "flight_time - длительность полета в минутах\n",
    "\n",
    "day_of_week - день недели, когда был осуществлен вылет от 0 до 6, где 0 - воскресенье ... 6 - суббота\n",
    "\n",
    "flight_id.1 - уникальный идентификатор полета (дублируется столбец, нужно удалить)\n",
    "\n",
    "sum_amount - сумма, вырученная за полет (доход от продажи билетов)\n",
    "\n",
    "seats_count_sold - количество проданных билетов\n",
    "\n",
    "Видим, что некоторые данные дублируются, некоторых данных не хватает.\n",
    "\n",
    "Удалим, подкорректируем, дополним и посмотрим на данные с помощью методов визуализации."
   ]
  },
  {
   "cell_type": "code",
   "execution_count": 4,
   "metadata": {},
   "outputs": [],
   "source": [
    "flights = flights.drop(['flight_id.1'], axis = 1)"
   ]
  },
  {
   "cell_type": "code",
   "execution_count": 5,
   "metadata": {},
   "outputs": [
    {
     "data": {
      "text/html": [
       "<div>\n",
       "<style scoped>\n",
       "    .dataframe tbody tr th:only-of-type {\n",
       "        vertical-align: middle;\n",
       "    }\n",
       "\n",
       "    .dataframe tbody tr th {\n",
       "        vertical-align: top;\n",
       "    }\n",
       "\n",
       "    .dataframe thead th {\n",
       "        text-align: right;\n",
       "    }\n",
       "</style>\n",
       "<table border=\"1\" class=\"dataframe\">\n",
       "  <thead>\n",
       "    <tr style=\"text-align: right;\">\n",
       "      <th></th>\n",
       "      <th>flight_id</th>\n",
       "      <th>arrival_airport</th>\n",
       "      <th>model</th>\n",
       "      <th>seats_total</th>\n",
       "      <th>flight_time</th>\n",
       "      <th>day_of_week</th>\n",
       "      <th>sum_amount</th>\n",
       "      <th>seats_count_sold</th>\n",
       "    </tr>\n",
       "  </thead>\n",
       "  <tbody>\n",
       "    <tr>\n",
       "      <th>0</th>\n",
       "      <td>136119</td>\n",
       "      <td>SVO</td>\n",
       "      <td>Boeing 737-300</td>\n",
       "      <td>130</td>\n",
       "      <td>101.0</td>\n",
       "      <td>2.0</td>\n",
       "      <td>1653000.0</td>\n",
       "      <td>113</td>\n",
       "    </tr>\n",
       "    <tr>\n",
       "      <th>1</th>\n",
       "      <td>136120</td>\n",
       "      <td>SVO</td>\n",
       "      <td>Boeing 737-300</td>\n",
       "      <td>130</td>\n",
       "      <td>99.0</td>\n",
       "      <td>5.0</td>\n",
       "      <td>1605400.0</td>\n",
       "      <td>109</td>\n",
       "    </tr>\n",
       "    <tr>\n",
       "      <th>2</th>\n",
       "      <td>136122</td>\n",
       "      <td>SVO</td>\n",
       "      <td>Boeing 737-300</td>\n",
       "      <td>130</td>\n",
       "      <td>100.0</td>\n",
       "      <td>0.0</td>\n",
       "      <td>1431000.0</td>\n",
       "      <td>97</td>\n",
       "    </tr>\n",
       "    <tr>\n",
       "      <th>3</th>\n",
       "      <td>136130</td>\n",
       "      <td>SVO</td>\n",
       "      <td>Boeing 737-300</td>\n",
       "      <td>130</td>\n",
       "      <td>99.0</td>\n",
       "      <td>1.0</td>\n",
       "      <td>1556600.0</td>\n",
       "      <td>107</td>\n",
       "    </tr>\n",
       "  </tbody>\n",
       "</table>\n",
       "</div>"
      ],
      "text/plain": [
       "   flight_id arrival_airport           model  seats_total  flight_time  \\\n",
       "0     136119             SVO  Boeing 737-300          130        101.0   \n",
       "1     136120             SVO  Boeing 737-300          130         99.0   \n",
       "2     136122             SVO  Boeing 737-300          130        100.0   \n",
       "3     136130             SVO  Boeing 737-300          130         99.0   \n",
       "\n",
       "   day_of_week  sum_amount  seats_count_sold  \n",
       "0          2.0   1653000.0               113  \n",
       "1          5.0   1605400.0               109  \n",
       "2          0.0   1431000.0                97  \n",
       "3          1.0   1556600.0               107  "
      ]
     },
     "execution_count": 5,
     "metadata": {},
     "output_type": "execute_result"
    }
   ],
   "source": [
    "flights.head(4)"
   ]
  },
  {
   "cell_type": "code",
   "execution_count": 6,
   "metadata": {},
   "outputs": [
    {
     "name": "stdout",
     "output_type": "stream",
     "text": [
      "180\n"
     ]
    }
   ],
   "source": [
    "print(flights.flight_id.nunique()) # количество перелетов всего за период 12.2016 - 02.2017"
   ]
  },
  {
   "cell_type": "code",
   "execution_count": 7,
   "metadata": {},
   "outputs": [
    {
     "data": {
      "text/plain": [
       "count    180.000000\n",
       "mean      74.988889\n",
       "std       25.061709\n",
       "min       49.000000\n",
       "25%       50.000000\n",
       "50%       74.500000\n",
       "75%      100.000000\n",
       "max      103.000000\n",
       "Name: flight_time, dtype: float64"
      ]
     },
     "execution_count": 7,
     "metadata": {},
     "output_type": "execute_result"
    }
   ],
   "source": [
    "flights.flight_time.describe() # описание времени перелета в минутах"
   ]
  },
  {
   "cell_type": "markdown",
   "metadata": {},
   "source": [
    "Судя по времени перелета, рейсы осуществляются без пересадок. "
   ]
  },
  {
   "cell_type": "code",
   "execution_count": 8,
   "metadata": {},
   "outputs": [
    {
     "name": "stdout",
     "output_type": "stream",
     "text": [
      "['SVO' 'EGO']\n"
     ]
    }
   ],
   "source": [
    "# рейсы осущствлялись только в 2 аэропорта (Москву - SVO и Белгород - EGO) за указанный период\n",
    "print(flights.arrival_airport.unique())"
   ]
  },
  {
   "cell_type": "code",
   "execution_count": 9,
   "metadata": {},
   "outputs": [
    {
     "name": "stdout",
     "output_type": "stream",
     "text": [
      "['Boeing 737-300']\n",
      "['Sukhoi Superjet-100']\n"
     ]
    }
   ],
   "source": [
    "print(flights[flights.arrival_airport == 'SVO'].model.unique())\n",
    "print(flights[flights.arrival_airport == 'EGO'].model.unique())"
   ]
  },
  {
   "cell_type": "markdown",
   "metadata": {},
   "source": [
    "Мы видим, что в Москву летает Boeing 737-300, а в Белгород Sukhoi Superjet-100.\n",
    "\n",
    "Дополнительная информация:\n",
    "\n",
    "Расстояние полета между Анапой и Москвой 1207 км = 750 миль (https://avia.tutu.ru/reys/n4_182)\n",
    "Расстояние полета между Анапой и Белгородом 637 км = 396 миль (https://travelask.ru/questions/680447-skolko-letet-iz-anapy-v-belgorod)\n",
    "\n",
    "Расход топлива \n",
    "(http://newsruss.ru) \n",
    "Boeing 737-300 (кг на 1 пассажира на 1207 км) = 31,38 кг или 2400 кг в час \n",
    "(http://superjet.wikidot.com/wiki:rashod-topliva)\n",
    "Sukhoi Superjet-100 (кг на 1 пассажира на 637 км) = 17 кг или 1800 кг в час\n",
    "\n",
    "Стоимость топлива в декабре 2016 - январе 2017: 39 400 рос.руб. без НДС за тонну\n",
    "https://favt.gov.ru/dejatelnost-ajeroporty-i-ajerodromy-ceny-na-aviagsm/?id=7329"
   ]
  },
  {
   "cell_type": "code",
   "execution_count": 10,
   "metadata": {},
   "outputs": [
    {
     "data": {
      "text/html": [
       "<div>\n",
       "<style scoped>\n",
       "    .dataframe tbody tr th:only-of-type {\n",
       "        vertical-align: middle;\n",
       "    }\n",
       "\n",
       "    .dataframe tbody tr th {\n",
       "        vertical-align: top;\n",
       "    }\n",
       "\n",
       "    .dataframe thead th {\n",
       "        text-align: right;\n",
       "    }\n",
       "</style>\n",
       "<table border=\"1\" class=\"dataframe\">\n",
       "  <thead>\n",
       "    <tr style=\"text-align: right;\">\n",
       "      <th></th>\n",
       "      <th>flight_id</th>\n",
       "      <th>arrival_airport</th>\n",
       "      <th>model</th>\n",
       "      <th>seats_total</th>\n",
       "      <th>flight_time</th>\n",
       "      <th>day_of_week</th>\n",
       "      <th>sum_amount</th>\n",
       "      <th>seats_count_sold</th>\n",
       "      <th>aircraft_occupancy</th>\n",
       "    </tr>\n",
       "  </thead>\n",
       "  <tbody>\n",
       "    <tr>\n",
       "      <th>0</th>\n",
       "      <td>136119</td>\n",
       "      <td>SVO</td>\n",
       "      <td>Boeing 737-300</td>\n",
       "      <td>130</td>\n",
       "      <td>101.0</td>\n",
       "      <td>2.0</td>\n",
       "      <td>1653000.0</td>\n",
       "      <td>113</td>\n",
       "      <td>86.92</td>\n",
       "    </tr>\n",
       "    <tr>\n",
       "      <th>1</th>\n",
       "      <td>136120</td>\n",
       "      <td>SVO</td>\n",
       "      <td>Boeing 737-300</td>\n",
       "      <td>130</td>\n",
       "      <td>99.0</td>\n",
       "      <td>5.0</td>\n",
       "      <td>1605400.0</td>\n",
       "      <td>109</td>\n",
       "      <td>83.85</td>\n",
       "    </tr>\n",
       "    <tr>\n",
       "      <th>2</th>\n",
       "      <td>136122</td>\n",
       "      <td>SVO</td>\n",
       "      <td>Boeing 737-300</td>\n",
       "      <td>130</td>\n",
       "      <td>100.0</td>\n",
       "      <td>0.0</td>\n",
       "      <td>1431000.0</td>\n",
       "      <td>97</td>\n",
       "      <td>74.62</td>\n",
       "    </tr>\n",
       "    <tr>\n",
       "      <th>3</th>\n",
       "      <td>136130</td>\n",
       "      <td>SVO</td>\n",
       "      <td>Boeing 737-300</td>\n",
       "      <td>130</td>\n",
       "      <td>99.0</td>\n",
       "      <td>1.0</td>\n",
       "      <td>1556600.0</td>\n",
       "      <td>107</td>\n",
       "      <td>82.31</td>\n",
       "    </tr>\n",
       "    <tr>\n",
       "      <th>4</th>\n",
       "      <td>136131</td>\n",
       "      <td>SVO</td>\n",
       "      <td>Boeing 737-300</td>\n",
       "      <td>130</td>\n",
       "      <td>99.0</td>\n",
       "      <td>6.0</td>\n",
       "      <td>1812800.0</td>\n",
       "      <td>124</td>\n",
       "      <td>95.38</td>\n",
       "    </tr>\n",
       "  </tbody>\n",
       "</table>\n",
       "</div>"
      ],
      "text/plain": [
       "   flight_id arrival_airport           model  seats_total  flight_time  \\\n",
       "0     136119             SVO  Boeing 737-300          130        101.0   \n",
       "1     136120             SVO  Boeing 737-300          130         99.0   \n",
       "2     136122             SVO  Boeing 737-300          130        100.0   \n",
       "3     136130             SVO  Boeing 737-300          130         99.0   \n",
       "4     136131             SVO  Boeing 737-300          130         99.0   \n",
       "\n",
       "   day_of_week  sum_amount  seats_count_sold  aircraft_occupancy  \n",
       "0          2.0   1653000.0               113               86.92  \n",
       "1          5.0   1605400.0               109               83.85  \n",
       "2          0.0   1431000.0                97               74.62  \n",
       "3          1.0   1556600.0               107               82.31  \n",
       "4          6.0   1812800.0               124               95.38  "
      ]
     },
     "execution_count": 10,
     "metadata": {},
     "output_type": "execute_result"
    }
   ],
   "source": [
    "# добавим показатель aircraft_occupancy - заполняемость самолета в рейсе в %\n",
    "flights['aircraft_occupancy'] = round((flights.seats_count_sold / flights.seats_total)*100,2)\n",
    "flights.head()"
   ]
  },
  {
   "cell_type": "code",
   "execution_count": 11,
   "metadata": {},
   "outputs": [
    {
     "data": {
      "text/plain": [
       "<AxesSubplot:>"
      ]
     },
     "execution_count": 11,
     "metadata": {},
     "output_type": "execute_result"
    },
    {
     "data": {
      "image/png": "[encoded data removed]",
      "text/plain": [
       "<Figure size 432x288 with 1 Axes>"
      ]
     },
     "metadata": {
      "needs_background": "light"
     },
     "output_type": "display_data"
    }
   ],
   "source": [
    "flights[flights.arrival_airport == 'SVO'].aircraft_occupancy.hist()"
   ]
  },
  {
   "cell_type": "code",
   "execution_count": 12,
   "metadata": {},
   "outputs": [
    {
     "data": {
      "text/plain": [
       "<AxesSubplot:>"
      ]
     },
     "execution_count": 12,
     "metadata": {},
     "output_type": "execute_result"
    },
    {
     "data": {
      "image/png": "[encoded data removed]",
      "text/plain": [
       "<Figure size 432x288 with 1 Axes>"
      ]
     },
     "metadata": {
      "needs_background": "light"
     },
     "output_type": "display_data"
    }
   ],
   "source": [
    "flights[flights.arrival_airport == 'EGO'].aircraft_occupancy.hist()"
   ]
  },
  {
   "cell_type": "code",
   "execution_count": 13,
   "metadata": {},
   "outputs": [
    {
     "data": {
      "text/html": [
       "<div>\n",
       "<style scoped>\n",
       "    .dataframe tbody tr th:only-of-type {\n",
       "        vertical-align: middle;\n",
       "    }\n",
       "\n",
       "    .dataframe tbody tr th {\n",
       "        vertical-align: top;\n",
       "    }\n",
       "\n",
       "    .dataframe thead th {\n",
       "        text-align: right;\n",
       "    }\n",
       "</style>\n",
       "<table border=\"1\" class=\"dataframe\">\n",
       "  <thead>\n",
       "    <tr style=\"text-align: right;\">\n",
       "      <th></th>\n",
       "      <th>flight_id</th>\n",
       "      <th>arrival_airport</th>\n",
       "      <th>model</th>\n",
       "      <th>seats_total</th>\n",
       "      <th>flight_time</th>\n",
       "      <th>day_of_week</th>\n",
       "      <th>sum_amount</th>\n",
       "      <th>seats_count_sold</th>\n",
       "      <th>aircraft_occupancy</th>\n",
       "    </tr>\n",
       "  </thead>\n",
       "  <tbody>\n",
       "    <tr>\n",
       "      <th>2</th>\n",
       "      <td>136122</td>\n",
       "      <td>SVO</td>\n",
       "      <td>Boeing 737-300</td>\n",
       "      <td>130</td>\n",
       "      <td>100.0</td>\n",
       "      <td>0.0</td>\n",
       "      <td>1431000.0</td>\n",
       "      <td>97</td>\n",
       "      <td>74.62</td>\n",
       "    </tr>\n",
       "    <tr>\n",
       "      <th>30</th>\n",
       "      <td>136253</td>\n",
       "      <td>SVO</td>\n",
       "      <td>Boeing 737-300</td>\n",
       "      <td>130</td>\n",
       "      <td>98.0</td>\n",
       "      <td>6.0</td>\n",
       "      <td>1407800.0</td>\n",
       "      <td>93</td>\n",
       "      <td>71.54</td>\n",
       "    </tr>\n",
       "    <tr>\n",
       "      <th>56</th>\n",
       "      <td>136352</td>\n",
       "      <td>SVO</td>\n",
       "      <td>Boeing 737-300</td>\n",
       "      <td>130</td>\n",
       "      <td>100.0</td>\n",
       "      <td>6.0</td>\n",
       "      <td>1372400.0</td>\n",
       "      <td>92</td>\n",
       "      <td>70.77</td>\n",
       "    </tr>\n",
       "    <tr>\n",
       "      <th>57</th>\n",
       "      <td>136360</td>\n",
       "      <td>SVO</td>\n",
       "      <td>Boeing 737-300</td>\n",
       "      <td>130</td>\n",
       "      <td>100.0</td>\n",
       "      <td>0.0</td>\n",
       "      <td>1455400.0</td>\n",
       "      <td>97</td>\n",
       "      <td>74.62</td>\n",
       "    </tr>\n",
       "    <tr>\n",
       "      <th>69</th>\n",
       "      <td>136418</td>\n",
       "      <td>SVO</td>\n",
       "      <td>Boeing 737-300</td>\n",
       "      <td>130</td>\n",
       "      <td>100.0</td>\n",
       "      <td>3.0</td>\n",
       "      <td>1407800.0</td>\n",
       "      <td>97</td>\n",
       "      <td>74.62</td>\n",
       "    </tr>\n",
       "    <tr>\n",
       "      <th>102</th>\n",
       "      <td>136642</td>\n",
       "      <td>EGO</td>\n",
       "      <td>Sukhoi Superjet-100</td>\n",
       "      <td>97</td>\n",
       "      <td>49.0</td>\n",
       "      <td>1.0</td>\n",
       "      <td>531000.0</td>\n",
       "      <td>64</td>\n",
       "      <td>65.98</td>\n",
       "    </tr>\n",
       "    <tr>\n",
       "      <th>144</th>\n",
       "      <td>136807</td>\n",
       "      <td>EGO</td>\n",
       "      <td>Sukhoi Superjet-100</td>\n",
       "      <td>97</td>\n",
       "      <td>50.0</td>\n",
       "      <td>4.0</td>\n",
       "      <td>531000.0</td>\n",
       "      <td>68</td>\n",
       "      <td>70.10</td>\n",
       "    </tr>\n",
       "  </tbody>\n",
       "</table>\n",
       "</div>"
      ],
      "text/plain": [
       "     flight_id arrival_airport                model  seats_total  flight_time  \\\n",
       "2       136122             SVO       Boeing 737-300          130        100.0   \n",
       "30      136253             SVO       Boeing 737-300          130         98.0   \n",
       "56      136352             SVO       Boeing 737-300          130        100.0   \n",
       "57      136360             SVO       Boeing 737-300          130        100.0   \n",
       "69      136418             SVO       Boeing 737-300          130        100.0   \n",
       "102     136642             EGO  Sukhoi Superjet-100           97         49.0   \n",
       "144     136807             EGO  Sukhoi Superjet-100           97         50.0   \n",
       "\n",
       "     day_of_week  sum_amount  seats_count_sold  aircraft_occupancy  \n",
       "2            0.0   1431000.0                97               74.62  \n",
       "30           6.0   1407800.0                93               71.54  \n",
       "56           6.0   1372400.0                92               70.77  \n",
       "57           0.0   1455400.0                97               74.62  \n",
       "69           3.0   1407800.0                97               74.62  \n",
       "102          1.0    531000.0                64               65.98  \n",
       "144          4.0    531000.0                68               70.10  "
      ]
     },
     "execution_count": 13,
     "metadata": {},
     "output_type": "execute_result"
    }
   ],
   "source": [
    "flights[flights.aircraft_occupancy < 75]"
   ]
  },
  {
   "cell_type": "markdown",
   "metadata": {},
   "source": [
    "Большая часть полетов происходит при заполненности самолетов пассажирами более чем на 75%, \n",
    "поэтому будем использовать расход топлива кг в час, а не в пассажиро-километрах."
   ]
  },
  {
   "cell_type": "code",
   "execution_count": 14,
   "metadata": {},
   "outputs": [
    {
     "name": "stderr",
     "output_type": "stream",
     "text": [
      "<ipython-input-14-cd9fbb90dcfd>:4: SettingWithCopyWarning: \n",
      "A value is trying to be set on a copy of a slice from a DataFrame\n",
      "\n",
      "See the caveats in the documentation: https://pandas.pydata.org/pandas-docs/stable/user_guide/indexing.html#returning-a-view-versus-a-copy\n",
      "  flights['flight_costs'][i] = (flights.flight_time[i] / 60 * 2400) * 39.4\n",
      "<ipython-input-14-cd9fbb90dcfd>:6: SettingWithCopyWarning: \n",
      "A value is trying to be set on a copy of a slice from a DataFrame\n",
      "\n",
      "See the caveats in the documentation: https://pandas.pydata.org/pandas-docs/stable/user_guide/indexing.html#returning-a-view-versus-a-copy\n",
      "  flights['flight_costs'][i] = (flights.flight_time[i] / 60 * 1800) * 39.4\n"
     ]
    },
    {
     "data": {
      "text/html": [
       "<div>\n",
       "<style scoped>\n",
       "    .dataframe tbody tr th:only-of-type {\n",
       "        vertical-align: middle;\n",
       "    }\n",
       "\n",
       "    .dataframe tbody tr th {\n",
       "        vertical-align: top;\n",
       "    }\n",
       "\n",
       "    .dataframe thead th {\n",
       "        text-align: right;\n",
       "    }\n",
       "</style>\n",
       "<table border=\"1\" class=\"dataframe\">\n",
       "  <thead>\n",
       "    <tr style=\"text-align: right;\">\n",
       "      <th></th>\n",
       "      <th>flight_id</th>\n",
       "      <th>arrival_airport</th>\n",
       "      <th>model</th>\n",
       "      <th>seats_total</th>\n",
       "      <th>flight_time</th>\n",
       "      <th>day_of_week</th>\n",
       "      <th>sum_amount</th>\n",
       "      <th>seats_count_sold</th>\n",
       "      <th>aircraft_occupancy</th>\n",
       "      <th>flight_costs</th>\n",
       "    </tr>\n",
       "  </thead>\n",
       "  <tbody>\n",
       "    <tr>\n",
       "      <th>0</th>\n",
       "      <td>136119</td>\n",
       "      <td>SVO</td>\n",
       "      <td>Boeing 737-300</td>\n",
       "      <td>130</td>\n",
       "      <td>101.0</td>\n",
       "      <td>2.0</td>\n",
       "      <td>1653000.0</td>\n",
       "      <td>113</td>\n",
       "      <td>86.92</td>\n",
       "      <td>159176</td>\n",
       "    </tr>\n",
       "    <tr>\n",
       "      <th>1</th>\n",
       "      <td>136120</td>\n",
       "      <td>SVO</td>\n",
       "      <td>Boeing 737-300</td>\n",
       "      <td>130</td>\n",
       "      <td>99.0</td>\n",
       "      <td>5.0</td>\n",
       "      <td>1605400.0</td>\n",
       "      <td>109</td>\n",
       "      <td>83.85</td>\n",
       "      <td>156024</td>\n",
       "    </tr>\n",
       "    <tr>\n",
       "      <th>2</th>\n",
       "      <td>136122</td>\n",
       "      <td>SVO</td>\n",
       "      <td>Boeing 737-300</td>\n",
       "      <td>130</td>\n",
       "      <td>100.0</td>\n",
       "      <td>0.0</td>\n",
       "      <td>1431000.0</td>\n",
       "      <td>97</td>\n",
       "      <td>74.62</td>\n",
       "      <td>157600</td>\n",
       "    </tr>\n",
       "    <tr>\n",
       "      <th>3</th>\n",
       "      <td>136130</td>\n",
       "      <td>SVO</td>\n",
       "      <td>Boeing 737-300</td>\n",
       "      <td>130</td>\n",
       "      <td>99.0</td>\n",
       "      <td>1.0</td>\n",
       "      <td>1556600.0</td>\n",
       "      <td>107</td>\n",
       "      <td>82.31</td>\n",
       "      <td>156024</td>\n",
       "    </tr>\n",
       "    <tr>\n",
       "      <th>4</th>\n",
       "      <td>136131</td>\n",
       "      <td>SVO</td>\n",
       "      <td>Boeing 737-300</td>\n",
       "      <td>130</td>\n",
       "      <td>99.0</td>\n",
       "      <td>6.0</td>\n",
       "      <td>1812800.0</td>\n",
       "      <td>124</td>\n",
       "      <td>95.38</td>\n",
       "      <td>156024</td>\n",
       "    </tr>\n",
       "  </tbody>\n",
       "</table>\n",
       "</div>"
      ],
      "text/plain": [
       "   flight_id arrival_airport           model  seats_total  flight_time  \\\n",
       "0     136119             SVO  Boeing 737-300          130        101.0   \n",
       "1     136120             SVO  Boeing 737-300          130         99.0   \n",
       "2     136122             SVO  Boeing 737-300          130        100.0   \n",
       "3     136130             SVO  Boeing 737-300          130         99.0   \n",
       "4     136131             SVO  Boeing 737-300          130         99.0   \n",
       "\n",
       "   day_of_week  sum_amount  seats_count_sold  aircraft_occupancy  flight_costs  \n",
       "0          2.0   1653000.0               113               86.92        159176  \n",
       "1          5.0   1605400.0               109               83.85        156024  \n",
       "2          0.0   1431000.0                97               74.62        157600  \n",
       "3          1.0   1556600.0               107               82.31        156024  \n",
       "4          6.0   1812800.0               124               95.38        156024  "
      ]
     },
     "execution_count": 14,
     "metadata": {},
     "output_type": "execute_result"
    }
   ],
   "source": [
    "flights['flight_costs'] = [i for i in range(len(flights))]\n",
    "for i in range(len(flights)):\n",
    "    if flights.model[i] == 'Boeing 737-300':\n",
    "        flights['flight_costs'][i] = (flights.flight_time[i] / 60 * 2400) * 39.4\n",
    "    else:\n",
    "        flights['flight_costs'][i] = (flights.flight_time[i] / 60 * 1800) * 39.4\n",
    "flights.head()"
   ]
  },
  {
   "cell_type": "code",
   "execution_count": 15,
   "metadata": {},
   "outputs": [
    {
     "data": {
      "text/plain": [
       "<AxesSubplot:>"
      ]
     },
     "execution_count": 15,
     "metadata": {},
     "output_type": "execute_result"
    },
    {
     "data": {
      "image/png": "[encoded data removed]",
      "text/plain": [
       "<Figure size 432x288 with 1 Axes>"
      ]
     },
     "metadata": {
      "needs_background": "light"
     },
     "output_type": "display_data"
    }
   ],
   "source": [
    "flights[flights.arrival_airport == 'SVO'].flight_costs.hist()"
   ]
  },
  {
   "cell_type": "code",
   "execution_count": 16,
   "metadata": {},
   "outputs": [
    {
     "data": {
      "text/plain": [
       "<AxesSubplot:>"
      ]
     },
     "execution_count": 16,
     "metadata": {},
     "output_type": "execute_result"
    },
    {
     "data": {
      "image/png": "[encoded data removed]",
      "text/plain": [
       "<Figure size 432x288 with 1 Axes>"
      ]
     },
     "metadata": {
      "needs_background": "light"
     },
     "output_type": "display_data"
    }
   ],
   "source": [
    "flights[flights.arrival_airport == 'EGO'].flight_costs.hist()"
   ]
  },
  {
   "cell_type": "markdown",
   "metadata": {},
   "source": [
    "Посмотрев на графики распределения стоимости топлива на перелеты по одному и другому навправлению делаем выводы:\n",
    "\n",
    "1. Рейсы в Москву дороже, это объясняется расстоянием и более длительным полетом.\n",
    "2. Распределение более компактное, а соответственно лучше прогнозируемо в Белгород.\n",
    "\n",
    "Нужно рассмотреть процент затрат по каждому рейсу."
   ]
  },
  {
   "cell_type": "code",
   "execution_count": 17,
   "metadata": {},
   "outputs": [],
   "source": [
    "flights['costs_percentage'] = round((flights.flight_costs / flights.sum_amount)*100,2)"
   ]
  },
  {
   "cell_type": "code",
   "execution_count": null,
   "metadata": {},
   "outputs": [],
   "source": []
  },
  {
   "cell_type": "code",
   "execution_count": 18,
   "metadata": {},
   "outputs": [
    {
     "name": "stdout",
     "output_type": "stream",
     "text": [
      "Всего полётов в Москву: 90\n",
      "Полёты в Москву, затраты на которые > 10%: 35\n"
     ]
    },
    {
     "data": {
      "image/png": "[encoded data removed]",
      "text/plain": [
       "<Figure size 432x288 with 1 Axes>"
      ]
     },
     "metadata": {
      "needs_background": "light"
     },
     "output_type": "display_data"
    }
   ],
   "source": [
    "flights[flights.arrival_airport == 'SVO'].costs_percentage.hist()\n",
    "print('Всего полётов в Москву:',flights[(flights.arrival_airport == 'SVO')].flight_id.count())\n",
    "print('Полёты в Москву, затраты на которые > 10%:',flights[(flights.arrival_airport == 'SVO') \n",
    "                                       & (flights.costs_percentage >= 10)].flight_id.count())"
   ]
  },
  {
   "cell_type": "code",
   "execution_count": 19,
   "metadata": {},
   "outputs": [
    {
     "name": "stdout",
     "output_type": "stream",
     "text": [
      "Всего полётов в Белгород: 90\n",
      "Полёты в Белгород, затраты на которые > 10%: 3\n"
     ]
    },
    {
     "data": {
      "image/png": "[encoded data removed]",
      "text/plain": [
       "<Figure size 432x288 with 1 Axes>"
      ]
     },
     "metadata": {
      "needs_background": "light"
     },
     "output_type": "display_data"
    }
   ],
   "source": [
    "flights[flights.arrival_airport == 'EGO'].costs_percentage.hist()\n",
    "print('Всего полётов в Белгород:',flights[(flights.arrival_airport == 'EGO')].flight_id.count())\n",
    "print('Полёты в Белгород, затраты на которые > 10%:',flights[(flights.arrival_airport == 'EGO') \n",
    "                                       & (flights.costs_percentage >= 10)].flight_id.count())"
   ]
  },
  {
   "cell_type": "markdown",
   "metadata": {},
   "source": [
    "Видим, что затраты на полёты в Москву намного чаще выходят за границу 10% (35 полётов из 90)  \n",
    "В то время, как в Белгород таких полётов всего 3.\n",
    "В виду того, что затраты на полёты примерно одинаковые (разница между максимальной и минимальной стоимостью примерно 6%, например по полётам в Москву), то как вывод можем предположить, что на \"выгодность\" полёта влияет заполненность самолетов.\n",
    "\n",
    "Посмотрим в какие дни недели какая заполняемость самолетов. Смотрим суммарно, чтоб понять за весь период. "
   ]
  },
  {
   "cell_type": "code",
   "execution_count": 20,
   "metadata": {},
   "outputs": [
    {
     "name": "stdout",
     "output_type": "stream",
     "text": [
      "Средняя заполняемость самолётов в Москву по дням недели:\n",
      "              seats_count_sold\n",
      "day_of_week                  \n",
      "0.0                      1379\n",
      "1.0                      1492\n",
      "2.0                      1504\n",
      "3.0                      1341\n",
      "4.0                      1509\n",
      "5.0                      1544\n",
      "6.0                      1441\n"
     ]
    }
   ],
   "source": [
    "print('Средняя заполняемость самолётов в Москву по дням недели:\\n',\n",
    "      pd.DataFrame(flights[flights.arrival_airport == 'SVO'].groupby(flights.day_of_week).seats_count_sold.sum()))"
   ]
  },
  {
   "cell_type": "code",
   "execution_count": 21,
   "metadata": {},
   "outputs": [
    {
     "name": "stdout",
     "output_type": "stream",
     "text": [
      "Средняя заполняемость самолётов в Белгород по дням недели:\n",
      "              seats_count_sold\n",
      "day_of_week                  \n",
      "0.0                      1159\n",
      "1.0                      1155\n",
      "2.0                      1172\n",
      "3.0                      1144\n",
      "4.0                      1179\n",
      "5.0                      1165\n",
      "6.0                      1167\n"
     ]
    }
   ],
   "source": [
    "print('Средняя заполняемость самолётов в Белгород по дням недели:\\n',\n",
    "      pd.DataFrame(flights[flights.arrival_airport == 'EGO'].groupby(flights.day_of_week).seats_count_sold.sum()))"
   ]
  },
  {
   "cell_type": "markdown",
   "metadata": {},
   "source": [
    "Как и в прежних наблюдениях, видим, что рейс в Белгород более \"ровный\", прогнозируемый и стабильный.\n",
    "В то время, как в Москву выбиваются 2 дня - воскресенье и среда.\n",
    "\n",
    "Как итоговое предложение: Полёты из Анапы в Москву в воскресенье и в среду можно отменить, чем повысить заполняемость полётов в другие дни недеи на это направление, в то время как эти самолёты можно задействовать на полёты на другие направления."
   ]
  },
  {
   "cell_type": "markdown",
   "metadata": {},
   "source": [
    "Что еще можно рассмотреть?\n",
    "1. Дополнительные затраты на обслуживание рейса (экипаж, обслуживание самолета, стоимость \"фрахта\" в эропорту, затраты на обслуживание пассажиров - еда, напитки, другое)\n",
    "2. Сравнить с другими сезонами, чтобы понять, какой сезон считать высоким/низким\n",
    "3. Повысить выгодность полёта, т.е. уменьшения процента затрат можно достигнуть за счет увеличения стоимости билетов бизнес-класса. Дополнительные наблюдения говорят о том, что 11% мест бизнес-класса генерируют 25% от суммы общей выручки от билетов, в то время как в эконом-классе такая пропорция: 89% мест дают соответственно 75% от выручки. Как предпоположение -  увеличение стоимости бизннес-класса не так чувствительно для тех, кто покупает такой класс билетов, в отличие от клиентов эконом-класса."
   ]
  },
  {
   "cell_type": "code",
   "execution_count": 25,
   "metadata": {},
   "outputs": [
    {
     "data": {
      "text/plain": [
       "[136122, 136253, 136352, 136360, 136418, 136642, 136807]"
      ]
     },
     "execution_count": 25,
     "metadata": {},
     "output_type": "execute_result"
    }
   ],
   "source": [
    "a = flights[flights.aircraft_occupancy <= 75].flight_id.to_list()\n",
    "a"
   ]
  },
  {
   "cell_type": "code",
   "execution_count": 29,
   "metadata": {},
   "outputs": [
    {
     "data": {
      "text/html": [
       "<div>\n",
       "<style scoped>\n",
       "    .dataframe tbody tr th:only-of-type {\n",
       "        vertical-align: middle;\n",
       "    }\n",
       "\n",
       "    .dataframe tbody tr th {\n",
       "        vertical-align: top;\n",
       "    }\n",
       "\n",
       "    .dataframe thead th {\n",
       "        text-align: right;\n",
       "    }\n",
       "</style>\n",
       "<table border=\"1\" class=\"dataframe\">\n",
       "  <thead>\n",
       "    <tr style=\"text-align: right;\">\n",
       "      <th></th>\n",
       "      <th>flight_id</th>\n",
       "      <th>arrival_airport</th>\n",
       "      <th>model</th>\n",
       "      <th>seats_total</th>\n",
       "      <th>flight_time</th>\n",
       "      <th>day_of_week</th>\n",
       "      <th>sum_amount</th>\n",
       "      <th>seats_count_sold</th>\n",
       "      <th>aircraft_occupancy</th>\n",
       "      <th>flight_costs</th>\n",
       "      <th>costs_percentage</th>\n",
       "    </tr>\n",
       "  </thead>\n",
       "  <tbody>\n",
       "    <tr>\n",
       "      <th>2</th>\n",
       "      <td>136122</td>\n",
       "      <td>SVO</td>\n",
       "      <td>Boeing 737-300</td>\n",
       "      <td>130</td>\n",
       "      <td>100.0</td>\n",
       "      <td>0.0</td>\n",
       "      <td>1431000.0</td>\n",
       "      <td>97</td>\n",
       "      <td>74.62</td>\n",
       "      <td>157600</td>\n",
       "      <td>11.01</td>\n",
       "    </tr>\n",
       "    <tr>\n",
       "      <th>30</th>\n",
       "      <td>136253</td>\n",
       "      <td>SVO</td>\n",
       "      <td>Boeing 737-300</td>\n",
       "      <td>130</td>\n",
       "      <td>98.0</td>\n",
       "      <td>6.0</td>\n",
       "      <td>1407800.0</td>\n",
       "      <td>93</td>\n",
       "      <td>71.54</td>\n",
       "      <td>154448</td>\n",
       "      <td>10.97</td>\n",
       "    </tr>\n",
       "    <tr>\n",
       "      <th>56</th>\n",
       "      <td>136352</td>\n",
       "      <td>SVO</td>\n",
       "      <td>Boeing 737-300</td>\n",
       "      <td>130</td>\n",
       "      <td>100.0</td>\n",
       "      <td>6.0</td>\n",
       "      <td>1372400.0</td>\n",
       "      <td>92</td>\n",
       "      <td>70.77</td>\n",
       "      <td>157600</td>\n",
       "      <td>11.48</td>\n",
       "    </tr>\n",
       "    <tr>\n",
       "      <th>57</th>\n",
       "      <td>136360</td>\n",
       "      <td>SVO</td>\n",
       "      <td>Boeing 737-300</td>\n",
       "      <td>130</td>\n",
       "      <td>100.0</td>\n",
       "      <td>0.0</td>\n",
       "      <td>1455400.0</td>\n",
       "      <td>97</td>\n",
       "      <td>74.62</td>\n",
       "      <td>157600</td>\n",
       "      <td>10.83</td>\n",
       "    </tr>\n",
       "    <tr>\n",
       "      <th>69</th>\n",
       "      <td>136418</td>\n",
       "      <td>SVO</td>\n",
       "      <td>Boeing 737-300</td>\n",
       "      <td>130</td>\n",
       "      <td>100.0</td>\n",
       "      <td>3.0</td>\n",
       "      <td>1407800.0</td>\n",
       "      <td>97</td>\n",
       "      <td>74.62</td>\n",
       "      <td>157600</td>\n",
       "      <td>11.19</td>\n",
       "    </tr>\n",
       "    <tr>\n",
       "      <th>102</th>\n",
       "      <td>136642</td>\n",
       "      <td>EGO</td>\n",
       "      <td>Sukhoi Superjet-100</td>\n",
       "      <td>97</td>\n",
       "      <td>49.0</td>\n",
       "      <td>1.0</td>\n",
       "      <td>531000.0</td>\n",
       "      <td>64</td>\n",
       "      <td>65.98</td>\n",
       "      <td>57918</td>\n",
       "      <td>10.91</td>\n",
       "    </tr>\n",
       "    <tr>\n",
       "      <th>144</th>\n",
       "      <td>136807</td>\n",
       "      <td>EGO</td>\n",
       "      <td>Sukhoi Superjet-100</td>\n",
       "      <td>97</td>\n",
       "      <td>50.0</td>\n",
       "      <td>4.0</td>\n",
       "      <td>531000.0</td>\n",
       "      <td>68</td>\n",
       "      <td>70.10</td>\n",
       "      <td>59100</td>\n",
       "      <td>11.13</td>\n",
       "    </tr>\n",
       "  </tbody>\n",
       "</table>\n",
       "</div>"
      ],
      "text/plain": [
       "     flight_id arrival_airport                model  seats_total  flight_time  \\\n",
       "2       136122             SVO       Boeing 737-300          130        100.0   \n",
       "30      136253             SVO       Boeing 737-300          130         98.0   \n",
       "56      136352             SVO       Boeing 737-300          130        100.0   \n",
       "57      136360             SVO       Boeing 737-300          130        100.0   \n",
       "69      136418             SVO       Boeing 737-300          130        100.0   \n",
       "102     136642             EGO  Sukhoi Superjet-100           97         49.0   \n",
       "144     136807             EGO  Sukhoi Superjet-100           97         50.0   \n",
       "\n",
       "     day_of_week  sum_amount  seats_count_sold  aircraft_occupancy  \\\n",
       "2            0.0   1431000.0                97               74.62   \n",
       "30           6.0   1407800.0                93               71.54   \n",
       "56           6.0   1372400.0                92               70.77   \n",
       "57           0.0   1455400.0                97               74.62   \n",
       "69           3.0   1407800.0                97               74.62   \n",
       "102          1.0    531000.0                64               65.98   \n",
       "144          4.0    531000.0                68               70.10   \n",
       "\n",
       "     flight_costs  costs_percentage  \n",
       "2          157600             11.01  \n",
       "30         154448             10.97  \n",
       "56         157600             11.48  \n",
       "57         157600             10.83  \n",
       "69         157600             11.19  \n",
       "102         57918             10.91  \n",
       "144         59100             11.13  "
      ]
     },
     "execution_count": 29,
     "metadata": {},
     "output_type": "execute_result"
    }
   ],
   "source": [
    "flights[flights.flight_id.isin(a)]"
   ]
  }
 ],
 "metadata": {
  "kernelspec": {
   "display_name": "Python 3",
   "language": "python",
   "name": "python3"
  },
  "language_info": {
   "codemirror_mode": {
    "name": "ipython",
    "version": 3
   },
   "file_extension": ".py",
   "mimetype": "text/x-python",
   "name": "python",
   "nbconvert_exporter": "python",
   "pygments_lexer": "ipython3",
   "version": "3.8.5"
  }
 },
 "nbformat": 4,
 "nbformat_minor": 4
}
